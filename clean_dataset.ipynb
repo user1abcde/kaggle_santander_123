{
 "cells": [
  {
   "cell_type": "code",
   "execution_count": 1,
   "metadata": {},
   "outputs": [],
   "source": [
    "import pandas as pd\n",
    "import matplotlib.pyplot as plt\n",
    "import seaborn as sns\n",
    "import numpy as np\n",
    "\n",
    "import warnings\n",
    "warnings.filterwarnings('ignore')\n",
    "\n",
    "%matplotlib inline"
   ]
  },
  {
   "cell_type": "code",
   "execution_count": 2,
   "metadata": {},
   "outputs": [],
   "source": [
    "from src.clean_dataset import clean_dataset\n",
    "\n",
    "train_dataset = pd.read_pickle('generated_files/120K/train.pkl')\n",
    "train_X,train_Y = clean_dataset(train_dataset)\n",
    "\n",
    "test_dataset = pd.read_pickle('generated_files/120K/test.pkl')\n",
    "test_X,test_Y = clean_dataset(test_dataset)"
   ]
  },
  {
   "cell_type": "code",
   "execution_count": 3,
   "metadata": {},
   "outputs": [],
   "source": [
    "train_X.to_pickle('generated_files/120K/train_X.pkl')\n",
    "test_X.to_pickle('generated_files/120K/test_X.pkl')\n",
    "train_Y.to_pickle('generated_files/120K/train_Y.pkl')\n",
    "test_Y.to_pickle('generated_files/120K/test_Y.pkl')"
   ]
  },
  {
   "cell_type": "code",
   "execution_count": 5,
   "metadata": {},
   "outputs": [
    {
     "name": "stdout",
     "output_type": "stream",
     "text": [
      "confirming our estimation of best possible score in exploration was correct (and also the correctness of the mapk alg):\n"
     ]
    },
    {
     "data": {
      "text/plain": [
       "0.035432368232529106"
      ]
     },
     "execution_count": 5,
     "metadata": {},
     "output_type": "execute_result"
    }
   ],
   "source": [
    "from src.metrics import mapk, transform_y\n",
    "\n",
    "res = transform_y(train_Y, thresh=0.001)\n",
    "\n",
    "print(\"confirming our estimation of best possible score in exploration was correct (and also the correctness of the mapk alg):\")\n",
    "best_possible_result = mapk(res, res, k=7)\n",
    "best_possible_result"
   ]
  },
  {
   "cell_type": "code",
   "execution_count": null,
   "metadata": {},
   "outputs": [],
   "source": []
  }
 ],
 "metadata": {
  "kernelspec": {
   "display_name": "Python 3",
   "language": "python",
   "name": "python3"
  },
  "language_info": {
   "codemirror_mode": {
    "name": "ipython",
    "version": 3
   },
   "file_extension": ".py",
   "mimetype": "text/x-python",
   "name": "python",
   "nbconvert_exporter": "python",
   "pygments_lexer": "ipython3",
   "version": "3.7.4"
  }
 },
 "nbformat": 4,
 "nbformat_minor": 4
}
