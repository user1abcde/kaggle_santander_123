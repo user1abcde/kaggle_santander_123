{
 "cells": [
  {
   "cell_type": "code",
   "execution_count": 1,
   "metadata": {},
   "outputs": [],
   "source": [
    "import pandas as pd\n",
    "import matplotlib.pyplot as plt\n",
    "import seaborn as sns\n",
    "import numpy as np\n",
    "import math\n",
    "\n",
    "import warnings\n",
    "warnings.filterwarnings('ignore')\n",
    "\n",
    "pd.set_option('display.float_format', lambda x: '%.3f' % x)\n",
    "\n",
    "sns.set()\n",
    "\n",
    "%matplotlib inline\n",
    "\n",
    "from src.metrics import mapk, transform_y\n",
    "\n",
    "from sklearn.multiclass import OneVsRestClassifier\n",
    "import xgboost\n",
    "from joblib import dump, load"
   ]
  },
  {
   "cell_type": "code",
   "execution_count": 2,
   "metadata": {},
   "outputs": [],
   "source": [
    "train_X = pd.read_pickle(f'generated_files/entire/train_X.pkl')\n",
    "train_Y = pd.read_pickle(f'generated_files/entire/train_Y.pkl')\n",
    "last_df = pd.read_pickle(f'generated_files/entire/last_month_data.pkl')\n",
    "\n",
    "is_train = (train_X['Row_Date'] >= '2015-05-28') & (train_X['Row_Date'] <= '2015-12-28')\n",
    "\n",
    "train_X = train_X[is_train].reset_index(drop=True)\n",
    "train_Y = train_Y[is_train].reset_index(drop=True)\n",
    "\n",
    "train_X.drop(['month', 'is_2015'], axis=1, inplace=True)\n",
    "last_df.drop(['month', 'is_2015'], axis=1, inplace=True)\n",
    "\n",
    "# lagged_features = [ft for ft in train_X.columns if 'LAG2' in ft]\n",
    "# train_X.drop(lagged_features, axis=1, inplace=True)\n",
    "# last_df.drop(lagged_features, axis=1, inplace=True)\n",
    "\n",
    "# is_test = train_X['Row_Date'] == '2015-06-28'\n",
    "# is_train = ~is_test # ~is_test # train_X['Row_Date'] == '2015-03-28'\n",
    "\n",
    "# test_X = train_X[is_test].reset_index(drop=True)\n",
    "# test_Y = train_Y[is_test].reset_index(drop=True)\n",
    "\n",
    "# train_X = train_X[is_train].reset_index(drop=True)\n",
    "# train_Y = train_Y[is_train].reset_index(drop=True)"
   ]
  },
  {
   "cell_type": "code",
   "execution_count": 3,
   "metadata": {},
   "outputs": [],
   "source": [
    "from src.clean_dataset import get_prediction_features\n",
    "from src.model import get_xgb_model, fit_model, predict_proba, predict_ordered_list, evaluate_result"
   ]
  },
  {
   "cell_type": "code",
   "execution_count": 4,
   "metadata": {},
   "outputs": [],
   "source": [
    "model = get_xgb_model()"
   ]
  },
  {
   "cell_type": "code",
   "execution_count": 5,
   "metadata": {},
   "outputs": [],
   "source": [
    "had_fts = [ft for ft in train_X.columns if 'HAD_NOT_NOW_' in ft]\n",
    "prediction_features = get_prediction_features(train_X)"
   ]
  },
  {
   "cell_type": "code",
   "execution_count": 6,
   "metadata": {},
   "outputs": [],
   "source": [
    "fit_model(model, train_X, train_Y)"
   ]
  },
  {
   "cell_type": "code",
   "execution_count": 7,
   "metadata": {},
   "outputs": [],
   "source": [
    "# probas = predict_proba(model, test_X, prediction_features)\n",
    "# ordered_lists = predict_ordered_list(probas)\n",
    "# evaluate_result(ordered_lists, test_Y)"
   ]
  },
  {
   "cell_type": "code",
   "execution_count": 8,
   "metadata": {},
   "outputs": [
    {
     "data": {
      "text/plain": [
       "['generated_files/final_model.joblib']"
      ]
     },
     "execution_count": 8,
     "metadata": {},
     "output_type": "execute_result"
    }
   ],
   "source": [
    "dump(model, 'generated_files/final_model.joblib')"
   ]
  },
  {
   "cell_type": "code",
   "execution_count": 9,
   "metadata": {},
   "outputs": [],
   "source": [
    "final_model = load('generated_files/final_model.joblib')"
   ]
  },
  {
   "cell_type": "code",
   "execution_count": 10,
   "metadata": {},
   "outputs": [],
   "source": [
    "batch_size = 200000\n",
    "probas_batches = []\n",
    "\n",
    "for i in range(math.ceil(len(last_df) / batch_size)):\n",
    "    data = last_df.iloc[i*batch_size: (i+1)*batch_size]\n",
    "    batch_res = predict_proba(final_model, data, prediction_features)\n",
    "    probas_batches.append(batch_res)\n",
    "\n",
    "last_month_probas = pd.concat(probas_batches)"
   ]
  },
  {
   "cell_type": "code",
   "execution_count": 11,
   "metadata": {},
   "outputs": [],
   "source": [
    "last_month_ordered_lists = predict_ordered_list(last_month_probas)"
   ]
  },
  {
   "cell_type": "code",
   "execution_count": 12,
   "metadata": {},
   "outputs": [],
   "source": [
    "from src.load_dataset import get_feature_translation_dict\n",
    "trans_dict, reverse_trans_dict = get_feature_translation_dict(\"static/feature_translation.csv\")"
   ]
  },
  {
   "cell_type": "code",
   "execution_count": 13,
   "metadata": {},
   "outputs": [],
   "source": [
    "final_result = pd.DataFrame([[reverse_trans_dict[prediction_features[idx]] for idx in idx_lst] for idx_lst in last_month_ordered_lists], index=last_df['Customer_Code'])"
   ]
  },
  {
   "cell_type": "code",
   "execution_count": 14,
   "metadata": {},
   "outputs": [
    {
     "data": {
      "text/html": [
       "<div>\n",
       "<style scoped>\n",
       "    .dataframe tbody tr th:only-of-type {\n",
       "        vertical-align: middle;\n",
       "    }\n",
       "\n",
       "    .dataframe tbody tr th {\n",
       "        vertical-align: top;\n",
       "    }\n",
       "\n",
       "    .dataframe thead th {\n",
       "        text-align: right;\n",
       "    }\n",
       "</style>\n",
       "<table border=\"1\" class=\"dataframe\">\n",
       "  <thead>\n",
       "    <tr style=\"text-align: right;\">\n",
       "      <th></th>\n",
       "      <th>0</th>\n",
       "      <th>1</th>\n",
       "      <th>2</th>\n",
       "      <th>3</th>\n",
       "      <th>4</th>\n",
       "      <th>5</th>\n",
       "      <th>6</th>\n",
       "    </tr>\n",
       "    <tr>\n",
       "      <th>Customer_Code</th>\n",
       "      <th></th>\n",
       "      <th></th>\n",
       "      <th></th>\n",
       "      <th></th>\n",
       "      <th></th>\n",
       "      <th></th>\n",
       "      <th></th>\n",
       "    </tr>\n",
       "  </thead>\n",
       "  <tbody>\n",
       "    <tr>\n",
       "      <td>15889</td>\n",
       "      <td>ind_recibo_ult1</td>\n",
       "      <td>ind_dela_fin_ult1</td>\n",
       "      <td>ind_ecue_fin_ult1</td>\n",
       "      <td>ind_reca_fin_ult1</td>\n",
       "      <td>ind_nomina_ult1</td>\n",
       "      <td>ind_nom_pens_ult1</td>\n",
       "      <td>ind_ctop_fin_ult1</td>\n",
       "    </tr>\n",
       "    <tr>\n",
       "      <td>15890</td>\n",
       "      <td>ind_ctma_fin_ult1</td>\n",
       "      <td>ind_cco_fin_ult1</td>\n",
       "      <td>ind_dela_fin_ult1</td>\n",
       "      <td>ind_reca_fin_ult1</td>\n",
       "      <td>ind_valo_fin_ult1</td>\n",
       "      <td>ind_fond_fin_ult1</td>\n",
       "      <td>ind_ctop_fin_ult1</td>\n",
       "    </tr>\n",
       "    <tr>\n",
       "      <td>15892</td>\n",
       "      <td>ind_cno_fin_ult1</td>\n",
       "      <td>ind_fond_fin_ult1</td>\n",
       "      <td>ind_nom_pens_ult1</td>\n",
       "      <td>ind_nomina_ult1</td>\n",
       "      <td>ind_plan_fin_ult1</td>\n",
       "      <td>ind_ctop_fin_ult1</td>\n",
       "      <td>ind_ctpp_fin_ult1</td>\n",
       "    </tr>\n",
       "    <tr>\n",
       "      <td>15893</td>\n",
       "      <td>ind_cco_fin_ult1</td>\n",
       "      <td>ind_dela_fin_ult1</td>\n",
       "      <td>ind_tjcr_fin_ult1</td>\n",
       "      <td>ind_recibo_ult1</td>\n",
       "      <td>ind_ecue_fin_ult1</td>\n",
       "      <td>ind_cno_fin_ult1</td>\n",
       "      <td>ind_fond_fin_ult1</td>\n",
       "    </tr>\n",
       "    <tr>\n",
       "      <td>15894</td>\n",
       "      <td>ind_dela_fin_ult1</td>\n",
       "      <td>ind_cno_fin_ult1</td>\n",
       "      <td>ind_plan_fin_ult1</td>\n",
       "      <td>ind_fond_fin_ult1</td>\n",
       "      <td>ind_ctop_fin_ult1</td>\n",
       "      <td>ind_ctma_fin_ult1</td>\n",
       "      <td>ind_ctpp_fin_ult1</td>\n",
       "    </tr>\n",
       "    <tr>\n",
       "      <td>...</td>\n",
       "      <td>...</td>\n",
       "      <td>...</td>\n",
       "      <td>...</td>\n",
       "      <td>...</td>\n",
       "      <td>...</td>\n",
       "      <td>...</td>\n",
       "      <td>...</td>\n",
       "    </tr>\n",
       "    <tr>\n",
       "      <td>1553685</td>\n",
       "      <td>ind_cco_fin_ult1</td>\n",
       "      <td>ind_ctma_fin_ult1</td>\n",
       "      <td>ind_cno_fin_ult1</td>\n",
       "      <td>ind_deco_fin_ult1</td>\n",
       "      <td>ind_nomina_ult1</td>\n",
       "      <td>ind_dela_fin_ult1</td>\n",
       "      <td>ind_recibo_ult1</td>\n",
       "    </tr>\n",
       "    <tr>\n",
       "      <td>1553686</td>\n",
       "      <td>ind_cco_fin_ult1</td>\n",
       "      <td>ind_cno_fin_ult1</td>\n",
       "      <td>ind_ctma_fin_ult1</td>\n",
       "      <td>ind_recibo_ult1</td>\n",
       "      <td>ind_nomina_ult1</td>\n",
       "      <td>ind_nom_pens_ult1</td>\n",
       "      <td>ind_deco_fin_ult1</td>\n",
       "    </tr>\n",
       "    <tr>\n",
       "      <td>1553687</td>\n",
       "      <td>ind_cco_fin_ult1</td>\n",
       "      <td>ind_nomina_ult1</td>\n",
       "      <td>ind_nom_pens_ult1</td>\n",
       "      <td>ind_cno_fin_ult1</td>\n",
       "      <td>ind_recibo_ult1</td>\n",
       "      <td>ind_ctma_fin_ult1</td>\n",
       "      <td>ind_ecue_fin_ult1</td>\n",
       "    </tr>\n",
       "    <tr>\n",
       "      <td>1553688</td>\n",
       "      <td>ind_cco_fin_ult1</td>\n",
       "      <td>ind_ctma_fin_ult1</td>\n",
       "      <td>ind_cno_fin_ult1</td>\n",
       "      <td>ind_recibo_ult1</td>\n",
       "      <td>ind_nomina_ult1</td>\n",
       "      <td>ind_deco_fin_ult1</td>\n",
       "      <td>ind_nom_pens_ult1</td>\n",
       "    </tr>\n",
       "    <tr>\n",
       "      <td>1553689</td>\n",
       "      <td>ind_cco_fin_ult1</td>\n",
       "      <td>ind_ctma_fin_ult1</td>\n",
       "      <td>ind_cno_fin_ult1</td>\n",
       "      <td>ind_recibo_ult1</td>\n",
       "      <td>ind_deco_fin_ult1</td>\n",
       "      <td>ind_nomina_ult1</td>\n",
       "      <td>ind_nom_pens_ult1</td>\n",
       "    </tr>\n",
       "  </tbody>\n",
       "</table>\n",
       "<p>931453 rows × 7 columns</p>\n",
       "</div>"
      ],
      "text/plain": [
       "                               0                  1                  2  \\\n",
       "Customer_Code                                                            \n",
       "15889            ind_recibo_ult1  ind_dela_fin_ult1  ind_ecue_fin_ult1   \n",
       "15890          ind_ctma_fin_ult1   ind_cco_fin_ult1  ind_dela_fin_ult1   \n",
       "15892           ind_cno_fin_ult1  ind_fond_fin_ult1  ind_nom_pens_ult1   \n",
       "15893           ind_cco_fin_ult1  ind_dela_fin_ult1  ind_tjcr_fin_ult1   \n",
       "15894          ind_dela_fin_ult1   ind_cno_fin_ult1  ind_plan_fin_ult1   \n",
       "...                          ...                ...                ...   \n",
       "1553685         ind_cco_fin_ult1  ind_ctma_fin_ult1   ind_cno_fin_ult1   \n",
       "1553686         ind_cco_fin_ult1   ind_cno_fin_ult1  ind_ctma_fin_ult1   \n",
       "1553687         ind_cco_fin_ult1    ind_nomina_ult1  ind_nom_pens_ult1   \n",
       "1553688         ind_cco_fin_ult1  ind_ctma_fin_ult1   ind_cno_fin_ult1   \n",
       "1553689         ind_cco_fin_ult1  ind_ctma_fin_ult1   ind_cno_fin_ult1   \n",
       "\n",
       "                               3                  4                  5  \\\n",
       "Customer_Code                                                            \n",
       "15889          ind_reca_fin_ult1    ind_nomina_ult1  ind_nom_pens_ult1   \n",
       "15890          ind_reca_fin_ult1  ind_valo_fin_ult1  ind_fond_fin_ult1   \n",
       "15892            ind_nomina_ult1  ind_plan_fin_ult1  ind_ctop_fin_ult1   \n",
       "15893            ind_recibo_ult1  ind_ecue_fin_ult1   ind_cno_fin_ult1   \n",
       "15894          ind_fond_fin_ult1  ind_ctop_fin_ult1  ind_ctma_fin_ult1   \n",
       "...                          ...                ...                ...   \n",
       "1553685        ind_deco_fin_ult1    ind_nomina_ult1  ind_dela_fin_ult1   \n",
       "1553686          ind_recibo_ult1    ind_nomina_ult1  ind_nom_pens_ult1   \n",
       "1553687         ind_cno_fin_ult1    ind_recibo_ult1  ind_ctma_fin_ult1   \n",
       "1553688          ind_recibo_ult1    ind_nomina_ult1  ind_deco_fin_ult1   \n",
       "1553689          ind_recibo_ult1  ind_deco_fin_ult1    ind_nomina_ult1   \n",
       "\n",
       "                               6  \n",
       "Customer_Code                     \n",
       "15889          ind_ctop_fin_ult1  \n",
       "15890          ind_ctop_fin_ult1  \n",
       "15892          ind_ctpp_fin_ult1  \n",
       "15893          ind_fond_fin_ult1  \n",
       "15894          ind_ctpp_fin_ult1  \n",
       "...                          ...  \n",
       "1553685          ind_recibo_ult1  \n",
       "1553686        ind_deco_fin_ult1  \n",
       "1553687        ind_ecue_fin_ult1  \n",
       "1553688        ind_nom_pens_ult1  \n",
       "1553689        ind_nom_pens_ult1  \n",
       "\n",
       "[931453 rows x 7 columns]"
      ]
     },
     "execution_count": 14,
     "metadata": {},
     "output_type": "execute_result"
    }
   ],
   "source": [
    "final_result.to_pickle('generated_files/final_result.pkl')\n",
    "final_result"
   ]
  },
  {
   "cell_type": "code",
   "execution_count": 15,
   "metadata": {},
   "outputs": [],
   "source": [
    "test = pd.read_csv('dataset/test_ver2.csv')"
   ]
  },
  {
   "cell_type": "code",
   "execution_count": 16,
   "metadata": {},
   "outputs": [],
   "source": [
    "test_result = final_result.loc[test['ncodpers']].reset_index().sort_values('Customer_Code').reset_index(drop=True)"
   ]
  },
  {
   "cell_type": "code",
   "execution_count": 17,
   "metadata": {},
   "outputs": [],
   "source": [
    "added_products = test_result[[i for i in range(7)]].apply(lambda row: ' '.join(r for r in row if r), axis=1)"
   ]
  },
  {
   "cell_type": "code",
   "execution_count": 18,
   "metadata": {},
   "outputs": [],
   "source": [
    "ncodpers = test_result['Customer_Code']"
   ]
  },
  {
   "cell_type": "code",
   "execution_count": 19,
   "metadata": {},
   "outputs": [],
   "source": [
    "kaggle_result = pd.DataFrame({'ncodpers': ncodpers, 'added_products': added_products})"
   ]
  },
  {
   "cell_type": "code",
   "execution_count": 20,
   "metadata": {},
   "outputs": [],
   "source": [
    "kaggle_result.to_csv('generated_files/kaggle_result6.csv', index=False)"
   ]
  },
  {
   "cell_type": "code",
   "execution_count": null,
   "metadata": {},
   "outputs": [],
   "source": []
  }
 ],
 "metadata": {
  "kernelspec": {
   "display_name": "Python 3",
   "language": "python",
   "name": "python3"
  },
  "language_info": {
   "codemirror_mode": {
    "name": "ipython",
    "version": 3
   },
   "file_extension": ".py",
   "mimetype": "text/x-python",
   "name": "python",
   "nbconvert_exporter": "python",
   "pygments_lexer": "ipython3",
   "version": "3.7.4"
  }
 },
 "nbformat": 4,
 "nbformat_minor": 4
}
