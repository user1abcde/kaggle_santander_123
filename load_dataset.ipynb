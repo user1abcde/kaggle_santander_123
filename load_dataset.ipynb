{
 "cells": [
  {
   "cell_type": "code",
   "execution_count": 179,
   "metadata": {},
   "outputs": [],
   "source": [
    "import pandas as pd\n",
    "import dask.dataframe as dd"
   ]
  },
  {
   "cell_type": "code",
   "execution_count": 180,
   "metadata": {},
   "outputs": [],
   "source": [
    "train_df = dd.read_csv(\"dataset/train_ver2.csv\", blocksize=10e6, dtype={'ind_nom_pens_ult1': 'float64', 'ind_nomina_ult1': 'float64', \n",
    "                                                                        'conyuemp': 'object', 'indrel_1mes': 'object'})"
   ]
  },
  {
   "cell_type": "code",
   "execution_count": 181,
   "metadata": {},
   "outputs": [],
   "source": [
    "translation_df = pd.read_csv(\"feature_translation.csv\")\n",
    "translation_dict = translation_df.set_index('original').to_dict()['translation']\n",
    "reverse_translation_dict = translation_df.set_index('translation').to_dict()['original']"
   ]
  },
  {
   "cell_type": "code",
   "execution_count": 182,
   "metadata": {},
   "outputs": [],
   "source": [
    "train_df_tr = train_df.rename(columns=translation_dict)"
   ]
  },
  {
   "cell_type": "code",
   "execution_count": 183,
   "metadata": {},
   "outputs": [
    {
     "data": {
      "text/html": [
       "<div>\n",
       "<style scoped>\n",
       "    .dataframe tbody tr th:only-of-type {\n",
       "        vertical-align: middle;\n",
       "    }\n",
       "\n",
       "    .dataframe tbody tr th {\n",
       "        vertical-align: top;\n",
       "    }\n",
       "\n",
       "    .dataframe thead th {\n",
       "        text-align: right;\n",
       "    }\n",
       "</style>\n",
       "<table border=\"1\" class=\"dataframe\">\n",
       "  <thead>\n",
       "    <tr style=\"text-align: right;\">\n",
       "      <th></th>\n",
       "      <th>Row_Date</th>\n",
       "      <th>Customer_Code</th>\n",
       "      <th>Employee_Type</th>\n",
       "      <th>Country_Residence</th>\n",
       "      <th>Sex</th>\n",
       "      <th>Age</th>\n",
       "      <th>Registration_Date</th>\n",
       "      <th>Is_New_Customer</th>\n",
       "      <th>Customer_Seniority_Months</th>\n",
       "      <th>First_Or_Primary</th>\n",
       "      <th>...</th>\n",
       "      <th>FT_Mortgage</th>\n",
       "      <th>FT_Pensions1</th>\n",
       "      <th>FT_Loans</th>\n",
       "      <th>FT_Taxes</th>\n",
       "      <th>FT_Credit_Card</th>\n",
       "      <th>FT_Securities</th>\n",
       "      <th>FT_Home_Account</th>\n",
       "      <th>FT_Payroll</th>\n",
       "      <th>FT_Pensions2</th>\n",
       "      <th>FT_Direct_Debit</th>\n",
       "    </tr>\n",
       "  </thead>\n",
       "  <tbody>\n",
       "    <tr>\n",
       "      <td>0</td>\n",
       "      <td>2015-01-28</td>\n",
       "      <td>1375586</td>\n",
       "      <td>N</td>\n",
       "      <td>ES</td>\n",
       "      <td>H</td>\n",
       "      <td>35</td>\n",
       "      <td>2015-01-12</td>\n",
       "      <td>0.0</td>\n",
       "      <td>6</td>\n",
       "      <td>1.0</td>\n",
       "      <td>...</td>\n",
       "      <td>0</td>\n",
       "      <td>0</td>\n",
       "      <td>0</td>\n",
       "      <td>0</td>\n",
       "      <td>0</td>\n",
       "      <td>0</td>\n",
       "      <td>0</td>\n",
       "      <td>0.0</td>\n",
       "      <td>0.0</td>\n",
       "      <td>0</td>\n",
       "    </tr>\n",
       "    <tr>\n",
       "      <td>1</td>\n",
       "      <td>2015-01-28</td>\n",
       "      <td>1050611</td>\n",
       "      <td>N</td>\n",
       "      <td>ES</td>\n",
       "      <td>V</td>\n",
       "      <td>23</td>\n",
       "      <td>2012-08-10</td>\n",
       "      <td>0.0</td>\n",
       "      <td>35</td>\n",
       "      <td>1.0</td>\n",
       "      <td>...</td>\n",
       "      <td>0</td>\n",
       "      <td>0</td>\n",
       "      <td>0</td>\n",
       "      <td>0</td>\n",
       "      <td>0</td>\n",
       "      <td>0</td>\n",
       "      <td>0</td>\n",
       "      <td>0.0</td>\n",
       "      <td>0.0</td>\n",
       "      <td>0</td>\n",
       "    </tr>\n",
       "    <tr>\n",
       "      <td>2</td>\n",
       "      <td>2015-01-28</td>\n",
       "      <td>1050612</td>\n",
       "      <td>N</td>\n",
       "      <td>ES</td>\n",
       "      <td>V</td>\n",
       "      <td>23</td>\n",
       "      <td>2012-08-10</td>\n",
       "      <td>0.0</td>\n",
       "      <td>35</td>\n",
       "      <td>1.0</td>\n",
       "      <td>...</td>\n",
       "      <td>0</td>\n",
       "      <td>0</td>\n",
       "      <td>0</td>\n",
       "      <td>0</td>\n",
       "      <td>0</td>\n",
       "      <td>0</td>\n",
       "      <td>0</td>\n",
       "      <td>0.0</td>\n",
       "      <td>0.0</td>\n",
       "      <td>0</td>\n",
       "    </tr>\n",
       "    <tr>\n",
       "      <td>3</td>\n",
       "      <td>2015-01-28</td>\n",
       "      <td>1050613</td>\n",
       "      <td>N</td>\n",
       "      <td>ES</td>\n",
       "      <td>H</td>\n",
       "      <td>22</td>\n",
       "      <td>2012-08-10</td>\n",
       "      <td>0.0</td>\n",
       "      <td>35</td>\n",
       "      <td>1.0</td>\n",
       "      <td>...</td>\n",
       "      <td>0</td>\n",
       "      <td>0</td>\n",
       "      <td>0</td>\n",
       "      <td>0</td>\n",
       "      <td>0</td>\n",
       "      <td>0</td>\n",
       "      <td>0</td>\n",
       "      <td>0.0</td>\n",
       "      <td>0.0</td>\n",
       "      <td>0</td>\n",
       "    </tr>\n",
       "    <tr>\n",
       "      <td>4</td>\n",
       "      <td>2015-01-28</td>\n",
       "      <td>1050614</td>\n",
       "      <td>N</td>\n",
       "      <td>ES</td>\n",
       "      <td>V</td>\n",
       "      <td>23</td>\n",
       "      <td>2012-08-10</td>\n",
       "      <td>0.0</td>\n",
       "      <td>35</td>\n",
       "      <td>1.0</td>\n",
       "      <td>...</td>\n",
       "      <td>0</td>\n",
       "      <td>0</td>\n",
       "      <td>0</td>\n",
       "      <td>0</td>\n",
       "      <td>0</td>\n",
       "      <td>0</td>\n",
       "      <td>0</td>\n",
       "      <td>0.0</td>\n",
       "      <td>0.0</td>\n",
       "      <td>0</td>\n",
       "    </tr>\n",
       "  </tbody>\n",
       "</table>\n",
       "<p>5 rows × 48 columns</p>\n",
       "</div>"
      ],
      "text/plain": [
       "     Row_Date  Customer_Code Employee_Type Country_Residence Sex  Age  \\\n",
       "0  2015-01-28        1375586             N                ES   H   35   \n",
       "1  2015-01-28        1050611             N                ES   V   23   \n",
       "2  2015-01-28        1050612             N                ES   V   23   \n",
       "3  2015-01-28        1050613             N                ES   H   22   \n",
       "4  2015-01-28        1050614             N                ES   V   23   \n",
       "\n",
       "  Registration_Date  Is_New_Customer Customer_Seniority_Months  \\\n",
       "0        2015-01-12              0.0                         6   \n",
       "1        2012-08-10              0.0                        35   \n",
       "2        2012-08-10              0.0                        35   \n",
       "3        2012-08-10              0.0                        35   \n",
       "4        2012-08-10              0.0                        35   \n",
       "\n",
       "   First_Or_Primary  ... FT_Mortgage FT_Pensions1 FT_Loans FT_Taxes  \\\n",
       "0               1.0  ...           0            0        0        0   \n",
       "1               1.0  ...           0            0        0        0   \n",
       "2               1.0  ...           0            0        0        0   \n",
       "3               1.0  ...           0            0        0        0   \n",
       "4               1.0  ...           0            0        0        0   \n",
       "\n",
       "  FT_Credit_Card FT_Securities FT_Home_Account FT_Payroll  FT_Pensions2  \\\n",
       "0              0             0               0        0.0           0.0   \n",
       "1              0             0               0        0.0           0.0   \n",
       "2              0             0               0        0.0           0.0   \n",
       "3              0             0               0        0.0           0.0   \n",
       "4              0             0               0        0.0           0.0   \n",
       "\n",
       "   FT_Direct_Debit  \n",
       "0                0  \n",
       "1                0  \n",
       "2                0  \n",
       "3                0  \n",
       "4                0  \n",
       "\n",
       "[5 rows x 48 columns]"
      ]
     },
     "execution_count": 183,
     "metadata": {},
     "output_type": "execute_result"
    }
   ],
   "source": [
    "train_df_tr.head()"
   ]
  },
  {
   "cell_type": "code",
   "execution_count": 184,
   "metadata": {},
   "outputs": [
    {
     "name": "stderr",
     "output_type": "stream",
     "text": [
      "/home/user279/anaconda3/lib/python3.7/site-packages/dask/core.py:118: DtypeWarning: Columns (5,8) have mixed types. Specify dtype option on import or set low_memory=False.\n",
      "  args2 = [_execute_task(a, cache) for a in args]\n"
     ]
    }
   ],
   "source": [
    "indexed_df = train_df_tr.set_index('Customer_Code')"
   ]
  },
  {
   "cell_type": "code",
   "execution_count": 185,
   "metadata": {},
   "outputs": [
    {
     "name": "stderr",
     "output_type": "stream",
     "text": [
      "/home/user279/anaconda3/lib/python3.7/site-packages/dask/core.py:118: DtypeWarning: Columns (5,8) have mixed types. Specify dtype option on import or set low_memory=False.\n",
      "  args2 = [_execute_task(a, cache) for a in args]\n"
     ]
    }
   ],
   "source": [
    "customers = indexed_df.index.unique().compute()"
   ]
  },
  {
   "cell_type": "code",
   "execution_count": 186,
   "metadata": {},
   "outputs": [
    {
     "data": {
      "text/plain": [
       "956645"
      ]
     },
     "execution_count": 186,
     "metadata": {},
     "output_type": "execute_result"
    }
   ],
   "source": [
    "len(customers)"
   ]
  },
  {
   "cell_type": "code",
   "execution_count": 187,
   "metadata": {},
   "outputs": [],
   "source": [
    "HOW_MANY_CUSTOMERS = 40000"
   ]
  },
  {
   "cell_type": "code",
   "execution_count": 188,
   "metadata": {},
   "outputs": [],
   "source": [
    "partial_customers = set(customers.sample(HOW_MANY_CUSTOMERS, random_state=1).values)"
   ]
  },
  {
   "cell_type": "code",
   "execution_count": 189,
   "metadata": {},
   "outputs": [
    {
     "name": "stderr",
     "output_type": "stream",
     "text": [
      "/home/user279/anaconda3/lib/python3.7/site-packages/dask/core.py:118: DtypeWarning: Columns (5,8) have mixed types. Specify dtype option on import or set low_memory=False.\n",
      "  args2 = [_execute_task(a, cache) for a in args]\n"
     ]
    }
   ],
   "source": [
    "partial_dataset = indexed_df.loc[indexed_df.index.isin(partial_customers)].compute()"
   ]
  },
  {
   "cell_type": "code",
   "execution_count": 190,
   "metadata": {},
   "outputs": [],
   "source": [
    "partial_dataset['Row_Date'] = pd.to_datetime(partial_dataset['Row_Date'])\n",
    "partial_dataset['Last_Date_primary'] = pd.to_datetime(partial_dataset['Last_Date_primary'])\n",
    "partial_dataset['Registration_Date'] = pd.to_datetime(partial_dataset['Registration_Date'])"
   ]
  },
  {
   "cell_type": "code",
   "execution_count": 191,
   "metadata": {},
   "outputs": [],
   "source": [
    "partial_dataset['Age'] = pd.to_numeric(partial_dataset['Age'], errors='coerce')\n",
    "partial_dataset['Customer_Seniority_Months'] = pd.to_numeric(partial_dataset['Customer_Seniority_Months'], errors='coerce')"
   ]
  },
  {
   "cell_type": "code",
   "execution_count": 192,
   "metadata": {},
   "outputs": [],
   "source": [
    "partial_dataset['Is_Residence_Same_Bank'] = partial_dataset['Is_Residence_Same_Bank'].map({'S': 1, 'N': 0, 1: 1, 0: 0}).astype('float64')\n",
    "partial_dataset['Is_Birth_Same_Bank'] = partial_dataset['Is_Birth_Same_Bank'].map({'S': 1, 'N': 0, 1: 1, 0: 0}).astype('float64')\n",
    "partial_dataset['Is_Spouse_Of_Employee'] = partial_dataset['Is_Spouse_Of_Employee'].map({'S': 1, 'N': 0, 1: 1, 0: 0}).astype('float64')\n",
    "partial_dataset['Is_Deceased'] = partial_dataset['Is_Deceased'].map({'S': 1, 'N': 0, 1: 1, 0: 0}).astype('float64')"
   ]
  },
  {
   "cell_type": "code",
   "execution_count": 193,
   "metadata": {},
   "outputs": [],
   "source": [
    "categorical_fields = partial_dataset.dtypes[partial_dataset.dtypes == 'object'].index\n",
    "\n",
    "for field in categorical_fields:\n",
    "    partial_dataset[field] = partial_dataset[field].astype('category')"
   ]
  },
  {
   "cell_type": "code",
   "execution_count": 195,
   "metadata": {},
   "outputs": [],
   "source": [
    "partial_dataset.to_pickle(\"dataset/partial_train.pkl\")"
   ]
  }
 ],
 "metadata": {
  "kernelspec": {
   "display_name": "Python 3",
   "language": "python",
   "name": "python3"
  },
  "language_info": {
   "codemirror_mode": {
    "name": "ipython",
    "version": 3
   },
   "file_extension": ".py",
   "mimetype": "text/x-python",
   "name": "python",
   "nbconvert_exporter": "python",
   "pygments_lexer": "ipython3",
   "version": "3.7.4"
  }
 },
 "nbformat": 4,
 "nbformat_minor": 4
}
