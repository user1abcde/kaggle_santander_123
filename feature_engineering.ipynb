{
 "cells": [
  {
   "cell_type": "code",
   "execution_count": 1,
   "metadata": {},
   "outputs": [],
   "source": [
    "import pandas as pd\n",
    "import matplotlib.pyplot as plt\n",
    "import seaborn as sns\n",
    "import numpy as np\n",
    "\n",
    "import warnings\n",
    "warnings.filterwarnings('ignore')\n",
    "\n",
    "pd.set_option('display.float_format', lambda x: '%.3f' % x)\n",
    "\n",
    "sns.set()\n",
    "\n",
    "%matplotlib inline\n",
    "\n",
    "from sklearn.multiclass import OneVsRestClassifier\n",
    "import xgboost\n",
    "\n",
    "from src.model import get_xgb_model, fit_model, predict_proba, predict_ordered_list, evaluate_result\n",
    "from src.feature_engineering import enhance_with_timeseries_features\n",
    "from src.clean_dataset import get_prediction_features, reduce_train\n",
    "from src.metrics import mapk, transform_y"
   ]
  },
  {
   "cell_type": "code",
   "execution_count": 2,
   "metadata": {},
   "outputs": [],
   "source": [
    "train_X = pd.read_pickle('generated_files/120K/train_X.pkl')\n",
    "train_Y = pd.read_pickle('generated_files/120K/train_Y.pkl')\n",
    "\n",
    "test_X = pd.read_pickle('generated_files/120K/test_X.pkl')\n",
    "test_Y = pd.read_pickle('generated_files/120K/test_Y.pkl')"
   ]
  },
  {
   "cell_type": "code",
   "execution_count": 3,
   "metadata": {},
   "outputs": [],
   "source": [
    "prediction_features = get_prediction_features(train_X)\n",
    "\n",
    "enhance_with_timeseries_features(train_X, prediction_features)\n",
    "enhance_with_timeseries_features(test_X, prediction_features)"
   ]
  },
  {
   "cell_type": "code",
   "execution_count": 4,
   "metadata": {},
   "outputs": [],
   "source": [
    "X_tr_reduced, Y_tr_reduced = reduce_train(train_X, train_Y)\n",
    "X_ts_reduced, Y_ts_reduced = reduce_train(test_X, test_Y)"
   ]
  },
  {
   "cell_type": "code",
   "execution_count": 5,
   "metadata": {},
   "outputs": [],
   "source": [
    "model = get_xgb_model()"
   ]
  },
  {
   "cell_type": "code",
   "execution_count": 6,
   "metadata": {},
   "outputs": [],
   "source": [
    "fit_model(model, X_tr_reduced, Y_tr_reduced)"
   ]
  },
  {
   "cell_type": "code",
   "execution_count": 7,
   "metadata": {},
   "outputs": [
    {
     "data": {
      "text/plain": [
       "0.8473047617906742"
      ]
     },
     "execution_count": 7,
     "metadata": {},
     "output_type": "execute_result"
    }
   ],
   "source": [
    "probas = predict_proba(model, X_ts_reduced, prediction_features)\n",
    "ordered_lists = predict_ordered_list(probas)\n",
    "evaluate_result(ordered_lists, Y_ts_reduced)"
   ]
  },
  {
   "cell_type": "code",
   "execution_count": 8,
   "metadata": {},
   "outputs": [
    {
     "data": {
      "text/plain": [
       "0.8748325819479665"
      ]
     },
     "execution_count": 8,
     "metadata": {},
     "output_type": "execute_result"
    }
   ],
   "source": [
    "test_last_month = X_ts_reduced['Row_Date'] == '2016-04-28'\n",
    "X_ts_last = X_ts_reduced[test_last_month]\n",
    "Y_ts_last = Y_ts_reduced[test_last_month]\n",
    "\n",
    "probas = predict_proba(model, X_ts_last, prediction_features)\n",
    "ordered_lists = predict_ordered_list(probas)\n",
    "evaluate_result(ordered_lists, Y_ts_last)"
   ]
  },
  {
   "cell_type": "code",
   "execution_count": null,
   "metadata": {},
   "outputs": [],
   "source": []
  }
 ],
 "metadata": {
  "kernelspec": {
   "display_name": "Python 3",
   "language": "python",
   "name": "python3"
  },
  "language_info": {
   "codemirror_mode": {
    "name": "ipython",
    "version": 3
   },
   "file_extension": ".py",
   "mimetype": "text/x-python",
   "name": "python",
   "nbconvert_exporter": "python",
   "pygments_lexer": "ipython3",
   "version": "3.7.4"
  }
 },
 "nbformat": 4,
 "nbformat_minor": 4
}
