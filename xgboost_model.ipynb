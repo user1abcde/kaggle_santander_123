{
 "cells": [
  {
   "cell_type": "code",
   "execution_count": 2,
   "metadata": {},
   "outputs": [],
   "source": [
    "import pandas as pd\n",
    "import matplotlib.pyplot as plt\n",
    "import seaborn as sns\n",
    "import numpy as np\n",
    "\n",
    "pd.set_option('display.float_format', lambda x: '%.3f' % x)\n",
    "\n",
    "%matplotlib inline"
   ]
  },
  {
   "cell_type": "code",
   "execution_count": 3,
   "metadata": {},
   "outputs": [],
   "source": [
    "train_X = pd.read_pickle('generated_files/train_X.pkl')\n",
    "train_Y = pd.read_pickle('generated_files/train_Y.pkl')\n",
    "\n",
    "test_X = pd.read_pickle('generated_files/test_X.pkl')\n",
    "test_Y = pd.read_pickle('generated_files/test_Y.pkl')"
   ]
  },
  {
   "cell_type": "code",
   "execution_count": 4,
   "metadata": {},
   "outputs": [],
   "source": [
    "def reduce_train(train_X, train_Y):\n",
    "    is_changed_series = train_Y.sum(axis=1) > 0\n",
    "    \n",
    "    X_reduced = train_X[is_changed_series].reset_index(drop=True)\n",
    "    Y_reduced = train_Y[is_changed_series].reset_index(drop=True)\n",
    "    \n",
    "    return X_reduced, Y_reduced\n",
    "\n",
    "X_tr_reduced, Y_tr_reduced = reduce_train(train_X, train_Y)\n",
    "X_ts_reduced, Y_ts_reduced = reduce_train(test_X, test_Y)"
   ]
  },
  {
   "cell_type": "code",
   "execution_count": 5,
   "metadata": {},
   "outputs": [],
   "source": [
    "from src.metrics import mapk, transform_y"
   ]
  },
  {
   "cell_type": "code",
   "execution_count": 6,
   "metadata": {},
   "outputs": [],
   "source": [
    "from sklearn.multiclass import OneVsRestClassifier\n",
    "import xgboost"
   ]
  },
  {
   "cell_type": "code",
   "execution_count": 7,
   "metadata": {},
   "outputs": [],
   "source": [
    "prediction_features = [col for col in train_X.columns if 'FT_' in col]\n",
    "\n",
    "def prepare_xgb_data(X):\n",
    "    xgb_X = X.drop(['Row_Date', 'Customer_Code'], axis=1)\n",
    "    xgb_X['Province_Name'] = xgb_X['Province_Name'].apply(lambda s: 1 if s == 'MADRID' else 0).astype('int64')\n",
    "    xgb_X['Sex'] = xgb_X['Sex'].apply(lambda s: 1 if s == 'V' else 0).astype('int64')\n",
    "    xgb_X['Segmentation'] = xgb_X['Segmentation'].apply(lambda s: 1 if 'TOP' in s else 0 if 'PARTICULARES' in s else -1).astype('int64')\n",
    "    \n",
    "    context_features = [col for col in xgb_X.columns if 'FT_' not in col]\n",
    "    \n",
    "#     xgb_X = xgb_X[context_features]\n",
    "    \n",
    "    return xgb_X"
   ]
  },
  {
   "cell_type": "code",
   "execution_count": 8,
   "metadata": {},
   "outputs": [
    {
     "name": "stderr",
     "output_type": "stream",
     "text": [
      "/home/user279/anaconda3/lib/python3.7/site-packages/sklearn/multiclass.py:76: UserWarning: Label not 0 is present in all training examples.\n",
      "  str(classes[c]))\n",
      "/home/user279/anaconda3/lib/python3.7/site-packages/sklearn/multiclass.py:76: UserWarning: Label not 1 is present in all training examples.\n",
      "  str(classes[c]))\n"
     ]
    },
    {
     "data": {
      "text/plain": [
       "OneVsRestClassifier(estimator=XGBClassifier(base_score=0.5, booster='gbtree',\n",
       "                                            colsample_bylevel=1,\n",
       "                                            colsample_bynode=1,\n",
       "                                            colsample_bytree=1, gamma=0,\n",
       "                                            learning_rate=0.1, max_delta_step=0,\n",
       "                                            max_depth=3, min_child_weight=1,\n",
       "                                            missing=None, n_estimators=100,\n",
       "                                            n_jobs=1, nthread=None,\n",
       "                                            objective='binary:logistic',\n",
       "                                            random_state=0, reg_alpha=0,\n",
       "                                            reg_lambda=1, scale_pos_weight=1,\n",
       "                                            seed=None, silent=None, subsample=1,\n",
       "                                            verbosity=1),\n",
       "                    n_jobs=None)"
      ]
     },
     "execution_count": 8,
     "metadata": {},
     "output_type": "execute_result"
    }
   ],
   "source": [
    "model = OneVsRestClassifier(xgboost.XGBClassifier())\n",
    "model.fit(prepare_xgb_data(X_tr_reduced), X_tr_reduced[prediction_features] + Y_tr_reduced)"
   ]
  },
  {
   "cell_type": "code",
   "execution_count": 9,
   "metadata": {},
   "outputs": [],
   "source": [
    "try_y = model.predict(prepare_xgb_data(X_ts_reduced))"
   ]
  },
  {
   "cell_type": "code",
   "execution_count": 10,
   "metadata": {},
   "outputs": [
    {
     "data": {
      "text/plain": [
       "0.44690843732717783"
      ]
     },
     "execution_count": 10,
     "metadata": {},
     "output_type": "execute_result"
    }
   ],
   "source": [
    "mapk(transform_y(Y_ts_reduced, thresh=0.01), transform_y(pd.DataFrame(try_y), thresh=0.01), k=7)"
   ]
  },
  {
   "cell_type": "code",
   "execution_count": 11,
   "metadata": {},
   "outputs": [],
   "source": [
    "def predict_row(y_row, x_row, n_labels, thresh):\n",
    "    row = y_row * (~x_row.astype('bool'))\n",
    "    res = np.argsort(-row)[:n_labels]\n",
    "    res = res[row[res] >= thresh]\n",
    "    return res\n",
    "\n",
    "probas = model.predict_proba(prepare_xgb_data(X_ts_reduced))\n",
    "try_y2 = [predict_row(y_row, x_row, 7, 0.0001) for y_row, x_row in zip(probas, X_ts_reduced[prediction_features].values)]"
   ]
  },
  {
   "cell_type": "code",
   "execution_count": 12,
   "metadata": {},
   "outputs": [
    {
     "data": {
      "text/plain": [
       "0.7915140593494846"
      ]
     },
     "execution_count": 12,
     "metadata": {},
     "output_type": "execute_result"
    }
   ],
   "source": [
    "mapk(transform_y(Y_ts_reduced, thresh=0.01), try_y2, k=7)"
   ]
  },
  {
   "cell_type": "code",
   "execution_count": 13,
   "metadata": {},
   "outputs": [],
   "source": [
    "def fit_model(train_X, train_Y):\n",
    "    models = []\n",
    "\n",
    "    xgb_X = prepare_xgb_data(train_X)\n",
    "\n",
    "    for pred in prediction_features:\n",
    "        pred_train_X = xgb_X.drop(pred, axis=1)\n",
    "        pred_train_Y = xgb_X[pred] + train_Y[pred]\n",
    "\n",
    "        model = xgboost.XGBClassifier()\n",
    "        model.fit(pred_train_X, pred_train_Y)\n",
    "\n",
    "        models.append(model)\n",
    "    \n",
    "    return models\n",
    "\n",
    "def predict_proba(models, X):\n",
    "    per_pred_proba = []\n",
    "    \n",
    "    xgb_X = prepare_xgb_data(X)\n",
    "    \n",
    "    for pred, model in zip(prediction_features, models):\n",
    "        pred_test_X = xgb_X.drop(pred, axis=1)\n",
    "        \n",
    "        res = model.predict_proba(pred_test_X)\n",
    "        per_pred_proba.append(res)\n",
    "    \n",
    "    return np.array(per_pred_proba).T"
   ]
  },
  {
   "cell_type": "code",
   "execution_count": 14,
   "metadata": {},
   "outputs": [],
   "source": [
    "models = fit_model(X_tr_reduced, Y_tr_reduced)"
   ]
  },
  {
   "cell_type": "code",
   "execution_count": 15,
   "metadata": {},
   "outputs": [
    {
     "data": {
      "text/plain": [
       "0.7741923173366584"
      ]
     },
     "execution_count": 15,
     "metadata": {},
     "output_type": "execute_result"
    }
   ],
   "source": [
    "probas2 = predict_proba(models, X_ts_reduced)[1]\n",
    "try_y3 = [predict_row(y_row, x_row, 7, 0.000001) for y_row, x_row in zip(probas2, X_ts_reduced[prediction_features].values)]\n",
    "mapk(transform_y(Y_ts_reduced, thresh=0.01), try_y3, k=7)"
   ]
  },
  {
   "cell_type": "code",
   "execution_count": null,
   "metadata": {},
   "outputs": [],
   "source": []
  }
 ],
 "metadata": {
  "kernelspec": {
   "display_name": "Python 3",
   "language": "python",
   "name": "python3"
  },
  "language_info": {
   "codemirror_mode": {
    "name": "ipython",
    "version": 3
   },
   "file_extension": ".py",
   "mimetype": "text/x-python",
   "name": "python",
   "nbconvert_exporter": "python",
   "pygments_lexer": "ipython3",
   "version": "3.7.4"
  }
 },
 "nbformat": 4,
 "nbformat_minor": 4
}
